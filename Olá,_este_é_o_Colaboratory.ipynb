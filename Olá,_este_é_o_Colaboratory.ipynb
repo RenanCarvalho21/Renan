{
  "cells": [
    {
      "cell_type": "markdown",
      "metadata": {
        "id": "view-in-github",
        "colab_type": "text"
      },
      "source": [
        "<a href=\"https://colab.research.google.com/github/RenanCarvalho21/Renan/blob/main/Ol%C3%A1%2C_este_%C3%A9_o_Colaboratory.ipynb\" target=\"_parent\"><img src=\"https://colab.research.google.com/assets/colab-badge.svg\" alt=\"Open In Colab\"/></a>"
      ]
    },
    {
      "cell_type": "markdown",
      "source": [
        "Meu primeiro programa na aula do prof. Massaki"
      ],
      "metadata": {
        "id": "ZXDdWTCIe6YK"
      }
    },
    {
      "cell_type": "code",
      "source": [
        "#Comentário Pyton"
      ],
      "metadata": {
        "id": "uynOCZrpe96i"
      },
      "execution_count": 1,
      "outputs": []
    },
    {
      "cell_type": "code",
      "source": [
        "a = \"2\"\n",
        "print(type(a))\n",
        "b = '3.0'\n",
        "print(type(b))\n",
        "soma = a+b\n",
        "print(type(soma))\n",
        "print(soma)"
      ],
      "metadata": {
        "id": "eS73DkvVfyXn",
        "outputId": "a8740d35-8648-45ff-dd25-8c2121c410d3",
        "colab": {
          "base_uri": "https://localhost:8080/"
        }
      },
      "execution_count": 6,
      "outputs": [
        {
          "output_type": "stream",
          "name": "stdout",
          "text": [
            "<class 'str'>\n",
            "<class 'str'>\n",
            "<class 'str'>\n",
            "23.0\n"
          ]
        }
      ]
    },
    {
      "cell_type": "code",
      "source": [],
      "metadata": {
        "id": "LZXGVDn_g7xO"
      },
      "execution_count": null,
      "outputs": []
    },
    {
      "cell_type": "markdown",
      "source": [
        "#Importância dos tipos de dados"
      ],
      "metadata": {
        "id": "Qdu56R1jg9N2"
      }
    },
    {
      "cell_type": "code",
      "source": [
        "num = int(input(\"Digite um número inteiro:\"))\n",
        "print(type(num))\n",
        "quoc = num//2\n",
        "resto = num%2\n",
        "print(\"Quociente = \", quoc)\n",
        "print(\"Resto =\", resto)"
      ],
      "metadata": {
        "id": "PGVka0F_hCn3",
        "outputId": "075afac4-fbdc-49f3-ef96-6cde15853432",
        "colab": {
          "base_uri": "https://localhost:8080/"
        }
      },
      "execution_count": 13,
      "outputs": [
        {
          "output_type": "stream",
          "name": "stdout",
          "text": [
            "Digite um número inteiro:9\n",
            "<class 'int'>\n",
            "Quociente =  4\n",
            "Resto = 1\n"
          ]
        }
      ]
    }
  ],
  "metadata": {
    "colab": {
      "name": "Olá, este é o Colaboratory",
      "toc_visible": true,
      "provenance": [],
      "include_colab_link": true
    },
    "kernelspec": {
      "display_name": "Python 3",
      "name": "python3"
    }
  },
  "nbformat": 4,
  "nbformat_minor": 0
}