{
  "cells": [
    {
      "cell_type": "markdown",
      "metadata": {
        "id": "view-in-github",
        "colab_type": "text"
      },
      "source": [
        "<a href=\"https://colab.research.google.com/github/RenanCarvalho21/Renan/blob/main/Ol%C3%A1%2C_este_%C3%A9_o_Colaboratory.ipynb\" target=\"_parent\"><img src=\"https://colab.research.google.com/assets/colab-badge.svg\" alt=\"Open In Colab\"/></a>"
      ]
    },
    {
      "cell_type": "markdown",
      "source": [
        "Meu primeiro programa na aula do prof. Massaki"
      ],
      "metadata": {
        "id": "ZXDdWTCIe6YK"
      }
    },
    {
      "cell_type": "code",
      "source": [
        "#Comentário Pyton"
      ],
      "metadata": {
        "id": "uynOCZrpe96i"
      },
      "execution_count": 1,
      "outputs": []
    },
    {
      "cell_type": "code",
      "source": [
        "a = \"2\"\n",
        "print(type(a))\n",
        "b = '3.0'\n",
        "print(type(b))\n",
        "soma = a+b\n",
        "print(type(soma))\n",
        "print(soma)"
      ],
      "metadata": {
        "colab": {
          "base_uri": "https://localhost:8080/"
        },
        "id": "eS73DkvVfyXn",
        "outputId": "a8740d35-8648-45ff-dd25-8c2121c410d3"
      },
      "execution_count": 6,
      "outputs": [
        {
          "output_type": "stream",
          "name": "stdout",
          "text": [
            "<class 'str'>\n",
            "<class 'str'>\n",
            "<class 'str'>\n",
            "23.0\n"
          ]
        }
      ]
    },
    {
      "cell_type": "code",
      "source": [],
      "metadata": {
        "id": "LZXGVDn_g7xO"
      },
      "execution_count": null,
      "outputs": []
    },
    {
      "cell_type": "markdown",
      "source": [
        "#Importância dos tipos de dados"
      ],
      "metadata": {
        "id": "Qdu56R1jg9N2"
      }
    },
    {
      "cell_type": "code",
      "source": [
        "num = int(input(\"Digite um número inteiro:\"))\n",
        "print(type(num))\n",
        "quoc = num//2\n",
        "resto = num%2\n",
        "print(\"Quociente = \", quoc)\n",
        "print(\"Resto =\", resto)"
      ],
      "metadata": {
        "colab": {
          "base_uri": "https://localhost:8080/"
        },
        "id": "PGVka0F_hCn3",
        "outputId": "075afac4-fbdc-49f3-ef96-6cde15853432"
      },
      "execution_count": 13,
      "outputs": [
        {
          "output_type": "stream",
          "name": "stdout",
          "text": [
            "Digite um número inteiro:9\n",
            "<class 'int'>\n",
            "Quociente =  4\n",
            "Resto = 1\n"
          ]
        }
      ]
    },
    {
      "cell_type": "code",
      "source": [
        "#Calculo da Média de dois valores\n",
        "v1 = float(input(\"Digite o primeiro valor: \"))\n",
        "v2 = float(input(\"Digite o segundo valor: \"))\n",
        "media = (v1+v2)/2\n",
        "print(\"A média é: \", media)"
      ],
      "metadata": {
        "id": "lyuXoANfi-2d",
        "outputId": "586576b1-14de-4559-8924-63d4b80fa3d6",
        "colab": {
          "base_uri": "https://localhost:8080/"
        }
      },
      "execution_count": 14,
      "outputs": [
        {
          "output_type": "stream",
          "name": "stdout",
          "text": [
            "Digite o primeiro valor: 2\n",
            "Digite o segundo valor: 4\n",
            "A média é:  3.0\n"
          ]
        }
      ]
    },
    {
      "cell_type": "code",
      "source": [
        "#Calculo de área\n",
        "Base = float(input(\"Digite o primeiro valor:\"))\n",
        "Altura = float(input(\"Digite o segundo valor:\"))\n",
        "Area = (Base*Altura)/2.0\n",
        "print(\"A area é:\", Area)"
      ],
      "metadata": {
        "id": "RLg0ISIlkWcs",
        "outputId": "5dd8506a-c666-4ca4-96da-bf295191865e",
        "colab": {
          "base_uri": "https://localhost:8080/"
        }
      },
      "execution_count": 17,
      "outputs": [
        {
          "output_type": "stream",
          "name": "stdout",
          "text": [
            "Digite o primeiro valor:5\n",
            "Digite o segundo valor:5\n",
            "A area é: 12.5\n"
          ]
        }
      ]
    }
  ],
  "metadata": {
    "colab": {
      "name": "Olá, este é o Colaboratory",
      "toc_visible": true,
      "provenance": [],
      "include_colab_link": true
    },
    "kernelspec": {
      "display_name": "Python 3",
      "name": "python3"
    }
  },
  "nbformat": 4,
  "nbformat_minor": 0
}