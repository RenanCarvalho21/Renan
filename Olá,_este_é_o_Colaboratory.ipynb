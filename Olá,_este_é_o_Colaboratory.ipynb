{
  "cells": [
    {
      "cell_type": "markdown",
      "metadata": {
        "id": "view-in-github",
        "colab_type": "text"
      },
      "source": [
        "<a href=\"https://colab.research.google.com/github/RenanCarvalho21/Renan/blob/main/Ol%C3%A1%2C_este_%C3%A9_o_Colaboratory.ipynb\" target=\"_parent\"><img src=\"https://colab.research.google.com/assets/colab-badge.svg\" alt=\"Open In Colab\"/></a>"
      ]
    },
    {
      "cell_type": "code",
      "source": [
        "#Converter raio por volume\n",
        "from math import pi\n",
        "R = int(input(\"Digite seu raio:\"))\n",
        "Volume = (4*pi*(R*R*R))/3\n",
        "print(\"Seu volume é:\", Volume)"
      ],
      "metadata": {
        "id": "nWrdcZsGayTI",
        "outputId": "8d94563c-6686-43a8-f82e-0639084ff464",
        "colab": {
          "base_uri": "https://localhost:8080/"
        }
      },
      "execution_count": 9,
      "outputs": [
        {
          "output_type": "stream",
          "name": "stdout",
          "text": [
            "Digite seu raio:1\n",
            "Seu volume é: 4.1887902047863905\n"
          ]
        }
      ]
    },
    {
      "cell_type": "code",
      "source": [
        "#Converter graus em radianos\n",
        "from math import pi\n",
        "g = int(input(\"Digite seu ângulo:\"))\n",
        "Radiano = g*pi/180.0\n",
        "print(\"Seu Radiano é:\", Radiano)"
      ],
      "metadata": {
        "id": "d43gUfcvd73Y",
        "outputId": "e1e7840e-fb38-4f48-c681-b51f6a7a55d4",
        "colab": {
          "base_uri": "https://localhost:8080/"
        }
      },
      "execution_count": 13,
      "outputs": [
        {
          "output_type": "stream",
          "name": "stdout",
          "text": [
            "Digite seu ângulo:1\n",
            "Seu Radiano é: 0.017453292519943295\n"
          ]
        }
      ]
    }
  ],
  "metadata": {
    "colab": {
      "name": "Olá, este é o Colaboratory",
      "toc_visible": true,
      "provenance": [],
      "include_colab_link": true
    },
    "kernelspec": {
      "display_name": "Python 3",
      "name": "python3"
    }
  },
  "nbformat": 4,
  "nbformat_minor": 0
}