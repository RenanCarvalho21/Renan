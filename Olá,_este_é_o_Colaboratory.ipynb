{
  "cells": [
    {
      "cell_type": "markdown",
      "metadata": {
        "id": "view-in-github",
        "colab_type": "text"
      },
      "source": [
        "<a href=\"https://colab.research.google.com/github/RenanCarvalho21/Renan/blob/main/Ol%C3%A1%2C_este_%C3%A9_o_Colaboratory.ipynb\" target=\"_parent\"><img src=\"https://colab.research.google.com/assets/colab-badge.svg\" alt=\"Open In Colab\"/></a>"
      ]
    },
    {
      "cell_type": "code",
      "source": [
        "#Converter raio por volume\n",
        "from math import pi\n",
        "R = int(input(\"Digite seu raio:\"))\n",
        "Volume = (4*pi*(R*R*R))/3\n",
        "print(\"Seu volume é:\", Volume)"
      ],
      "metadata": {
        "colab": {
          "base_uri": "https://localhost:8080/"
        },
        "id": "nWrdcZsGayTI",
        "outputId": "8d94563c-6686-43a8-f82e-0639084ff464"
      },
      "execution_count": 9,
      "outputs": [
        {
          "output_type": "stream",
          "name": "stdout",
          "text": [
            "Digite seu raio:1\n",
            "Seu volume é: 4.1887902047863905\n"
          ]
        }
      ]
    },
    {
      "cell_type": "code",
      "source": [
        "#Converter graus em radianos\n",
        "from math import pi\n",
        "g = int(input(\"Digite seu ângulo:\"))\n",
        "Radiano = g*pi/180.0\n",
        "print(\"Seu Radiano é:\", Radiano)"
      ],
      "metadata": {
        "colab": {
          "base_uri": "https://localhost:8080/"
        },
        "id": "d43gUfcvd73Y",
        "outputId": "e1e7840e-fb38-4f48-c681-b51f6a7a55d4"
      },
      "execution_count": 13,
      "outputs": [
        {
          "output_type": "stream",
          "name": "stdout",
          "text": [
            "Digite seu ângulo:1\n",
            "Seu Radiano é: 0.017453292519943295\n"
          ]
        }
      ]
    },
    {
      "cell_type": "code",
      "source": [
        "#Converter radianos em graus\n",
        "from math import pi\n",
        "r = float(input(\"Digite seu radianos:\"))\n",
        "Graus = r*180.0/pi\n",
        "print(\"Seu Graus é:\", Graus)"
      ],
      "metadata": {
        "id": "nxA0nqC7gMhC",
        "outputId": "cb0e0950-af5c-468c-bd7f-c37804dd19cb",
        "colab": {
          "base_uri": "https://localhost:8080/"
        }
      },
      "execution_count": 21,
      "outputs": [
        {
          "output_type": "stream",
          "name": "stdout",
          "text": [
            "Digite seu radianos:1\n",
            "Seu Graus é: 57.29577951308232\n"
          ]
        }
      ]
    },
    {
      "cell_type": "code",
      "source": [
        "#Converter ângulos em radiano\n",
        "from math import pi\n",
        "radianos = float(input(\"Digite seu ângulo em radianos:\"))\n",
        "grados =  400*radianos/(2*pi)\n",
        "print(\"Seu ângulo de radianos em grados é igual a:\", grados)\n"
      ],
      "metadata": {
        "id": "f4Th307oiavj",
        "outputId": "2ddc357e-36e2-4930-8930-41cfd67b7878",
        "colab": {
          "base_uri": "https://localhost:8080/"
        }
      },
      "execution_count": 32,
      "outputs": [
        {
          "output_type": "stream",
          "name": "stdout",
          "text": [
            "Digite seu ângulo em radianos:6.28\n",
            "Seu ângulo de radianos em grados é igual a: 399.7972170468411\n"
          ]
        }
      ]
    }
  ],
  "metadata": {
    "colab": {
      "name": "Olá, este é o Colaboratory",
      "toc_visible": true,
      "provenance": [],
      "include_colab_link": true
    },
    "kernelspec": {
      "display_name": "Python 3",
      "name": "python3"
    }
  },
  "nbformat": 4,
  "nbformat_minor": 0
}